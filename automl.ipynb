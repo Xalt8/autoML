{
 "metadata": {
  "language_info": {
   "codemirror_mode": {
    "name": "ipython",
    "version": 3
   },
   "file_extension": ".py",
   "mimetype": "text/x-python",
   "name": "python",
   "nbconvert_exporter": "python",
   "pygments_lexer": "ipython3",
   "version": "3.7.4-final"
  },
  "orig_nbformat": 2,
  "kernelspec": {
   "name": "Python 3.7.4 64-bit ('env': venv)",
   "display_name": "Python 3.7.4 64-bit ('env': venv)",
   "metadata": {
    "interpreter": {
     "hash": "93f9f40ce139dc0d532bcd139cbb6430877c4e6eedd20963b98fcc9f6bd5e06d"
    }
   }
  }
 },
 "nbformat": 4,
 "nbformat_minor": 2,
 "cells": [
  {
   "cell_type": "code",
   "execution_count": 2,
   "metadata": {},
   "outputs": [],
   "source": [
    "import numpy as np\n",
    "import pandas as pd\n",
    "from tpot import TPOTClassifier\n",
    "from sklearn.model_selection import train_test_split"
   ]
  },
  {
   "cell_type": "code",
   "execution_count": 40,
   "metadata": {},
   "outputs": [],
   "source": [
    "df = pd.read_csv('diabetes.csv')"
   ]
  },
  {
   "cell_type": "code",
   "execution_count": 6,
   "metadata": {},
   "outputs": [],
   "source": [
    "X = df.drop('Outcome', axis=1).copy()\n",
    "y = df['Outcome'].copy()"
   ]
  },
  {
   "cell_type": "code",
   "execution_count": 9,
   "metadata": {},
   "outputs": [],
   "source": [
    "X_train, X_test, y_train, y_test = train_test_split(X, y, stratify=y)"
   ]
  },
  {
   "cell_type": "code",
   "execution_count": 10,
   "metadata": {},
   "outputs": [
    {
     "output_type": "stream",
     "name": "stdout",
     "text": [
      "Optimization Progress:   2%|▏         | 200/10100 [01:43<2:14:09,  1.23pipeline/s]\n",
      "Optimization Progress:   3%|▎         | 300/10100 [02:40<59:46,  2.73pipeline/s]  \n",
      "Optimization Progress:   4%|▍         | 400/10100 [03:57<1:44:25,  1.55pipeline/s]\n",
      "Optimization Progress:   5%|▍         | 499/10100 [05:07<4:04:01,  1.52s/pipeline]\n",
      "Optimization Progress:   6%|▌         | 600/10100 [06:33<1:47:54,  1.47pipeline/s]\n",
      "Optimization Progress:   7%|▋         | 699/10100 [08:03<1:29:32,  1.75pipeline/s]\n",
      "Optimization Progress:   8%|▊         | 800/10100 [09:23<1:17:01,  2.01pipeline/s]\n",
      "Optimization Progress:   9%|▉         | 900/10100 [41:01<2:34:00,  1.00s/pipeline]\n",
      "Optimization Progress:  10%|▉         | 1000/10100 [42:21<4:13:32,  1.67s/pipeline]\n",
      "Optimization Progress:  11%|█         | 1099/10100 [43:53<2:50:18,  1.14s/pipeline]\n",
      "Optimization Progress:  12%|█▏        | 1200/10100 [45:14<1:03:24,  2.34pipeline/s]\n",
      "Optimization Progress:  13%|█▎        | 1300/10100 [46:13<1:18:52,  1.86pipeline/s]\n",
      "Optimization Progress:  14%|█▍        | 1400/10100 [47:30<2:42:46,  1.12s/pipeline]\n",
      "Optimization Progress:  15%|█▍        | 1500/10100 [48:34<34:55,  4.10pipeline/s]\n",
      "Optimization Progress:  16%|█▌        | 1600/10100 [49:34<29:18,  4.83pipeline/s]\n",
      "Optimization Progress:  17%|█▋        | 1700/10100 [50:33<1:34:04,  1.49pipeline/s]\n",
      "Optimization Progress:  18%|█▊        | 1800/10100 [51:33<53:00,  2.61pipeline/s]  \n",
      "Optimization Progress:  19%|█▉        | 1900/10100 [52:19<26:12,  5.22pipeline/s]\n",
      "Optimization Progress:  20%|█▉        | 2000/10100 [53:14<1:01:55,  2.18pipeline/s]\n",
      "Optimization Progress:  21%|██        | 2100/10100 [54:09<28:10,  4.73pipeline/s]\n",
      "Optimization Progress:  22%|██▏       | 2200/10100 [55:09<56:57,  2.31pipeline/s]\n",
      "Optimization Progress:  23%|██▎       | 2300/10100 [56:31<1:18:06,  1.66pipeline/s]\n",
      "Optimization Progress:  24%|██▍       | 2399/10100 [57:40<52:38,  2.44pipeline/s]\n",
      "Optimization Progress:  25%|██▍       | 2500/10100 [59:04<30:02,  4.22pipeline/s]\n",
      "Optimization Progress:  26%|██▌       | 2600/10100 [1:00:26<1:25:31,  1.46pipeline/s]\n",
      "Optimization Progress:  27%|██▋       | 2700/10100 [1:01:45<1:40:47,  1.22pipeline/s]\n",
      "Optimization Progress:  28%|██▊       | 2799/10100 [1:04:27<2:14:15,  1.10s/pipeline]\n",
      "Optimization Progress:  29%|██▊       | 2900/10100 [1:05:55<35:32,  3.38pipeline/s]\n",
      "Optimization Progress:  30%|██▉       | 3000/10100 [1:07:22<1:05:07,  1.82pipeline/s]\n",
      "Optimization Progress:  31%|███       | 3100/10100 [1:08:59<49:49,  2.34pipeline/s]\n",
      "Optimization Progress:  32%|███▏      | 3200/10100 [1:10:41<1:13:40,  1.56pipeline/s]\n",
      "Optimization Progress:  33%|███▎      | 3299/10100 [1:11:57<1:03:31,  1.78pipeline/s]\n",
      "Optimization Progress:  34%|███▎      | 3400/10100 [1:13:39<1:09:28,  1.61pipeline/s]\n",
      "Optimization Progress:  35%|███▍      | 3500/10100 [1:15:36<1:10:16,  1.57pipeline/s]\n",
      "Optimization Progress:  36%|███▌      | 3600/10100 [1:17:27<1:13:44,  1.47pipeline/s]\n",
      "Optimization Progress:  37%|███▋      | 3700/10100 [1:19:11<1:12:47,  1.47pipeline/s]\n",
      "Optimization Progress:  38%|███▊      | 3800/10100 [2:01:25<1:19:35,  1.32pipeline/s]\n",
      "Optimization Progress:  39%|███▊      | 3900/10100 [2:03:03<1:21:38,  1.27pipeline/s]\n",
      "Optimization Progress:  40%|███▉      | 4000/10100 [2:04:44<2:39:44,  1.57s/pipeline]\n",
      "Optimization Progress:  41%|████      | 4100/10100 [2:06:04<49:40,  2.01pipeline/s]  \n",
      "Optimization Progress:  42%|████▏     | 4200/10100 [2:07:30<1:02:35,  1.57pipeline/s]\n",
      "Optimization Progress:  43%|████▎     | 4300/10100 [2:08:57<1:06:25,  1.46pipeline/s]\n",
      "Optimization Progress:  44%|████▎     | 4400/10100 [2:10:15<1:25:50,  1.11pipeline/s]\n",
      "Optimization Progress:  45%|████▍     | 4500/10100 [2:11:35<1:19:50,  1.17pipeline/s]\n",
      "Optimization Progress:  46%|████▌     | 4600/10100 [2:12:39<1:21:21,  1.13pipeline/s]\n",
      "Optimization Progress:  47%|████▋     | 4700/10100 [2:13:56<1:04:19,  1.40pipeline/s]\n",
      "Optimization Progress:  48%|████▊     | 4800/10100 [2:14:57<42:40,  2.07pipeline/s]\n",
      "Optimization Progress:  49%|████▊     | 4900/10100 [2:16:16<47:59,  1.81pipeline/s]\n",
      "Optimization Progress:  50%|████▉     | 5000/10100 [3:11:24<51:47,  1.64pipeline/s]\n",
      "Optimization Progress:  50%|█████     | 5100/10100 [3:12:30<35:44,  2.33pipeline/s]\n",
      "Optimization Progress:  51%|█████▏    | 5200/10100 [3:13:46<1:07:29,  1.21pipeline/s]\n",
      "Optimization Progress:  52%|█████▏    | 5300/10100 [3:14:58<1:22:18,  1.03s/pipeline]\n",
      "Optimization Progress:  53%|█████▎    | 5400/10100 [3:16:04<48:22,  1.62pipeline/s]\n",
      "Optimization Progress:  54%|█████▍    | 5500/10100 [3:17:03<34:16,  2.24pipeline/s]\n",
      "Optimization Progress:  55%|█████▌    | 5600/10100 [3:17:59<32:28,  2.31pipeline/s]\n",
      "Optimization Progress:  56%|█████▋    | 5700/10100 [3:19:08<44:33,  1.65pipeline/s]\n",
      "Optimization Progress:  57%|█████▋    | 5800/10100 [3:20:34<59:15,  1.21pipeline/s]  \n",
      "Optimization Progress:  58%|█████▊    | 5900/10100 [3:27:33<53:13,  1.31pipeline/s]  \n",
      "Optimization Progress:  59%|█████▉    | 6000/10100 [3:28:40<38:38,  1.77pipeline/s]\n",
      "Optimization Progress:  60%|██████    | 6100/10100 [3:30:05<1:28:47,  1.33s/pipeline]\n",
      "Optimization Progress:  61%|██████▏   | 6200/10100 [3:31:14<48:39,  1.34pipeline/s]\n",
      "Optimization Progress:  62%|██████▏   | 6300/10100 [3:32:46<1:00:47,  1.04pipeline/s]\n",
      "Optimization Progress:  63%|██████▎   | 6400/10100 [3:34:02<45:08,  1.37pipeline/s]\n",
      "Optimization Progress:  64%|██████▍   | 6500/10100 [3:35:06<1:31:33,  1.53s/pipeline]\n",
      "Optimization Progress:  65%|██████▌   | 6600/10100 [3:36:26<1:02:27,  1.07s/pipeline]\n",
      "Optimization Progress:  66%|██████▋   | 6700/10100 [3:37:28<23:34,  2.40pipeline/s]\n",
      "Optimization Progress:  67%|██████▋   | 6800/10100 [3:38:59<56:16,  1.02s/pipeline]  \n",
      "Optimization Progress:  68%|██████▊   | 6900/10100 [3:40:29<48:13,  1.11pipeline/s]\n",
      "Optimization Progress:  69%|██████▉   | 7000/10100 [3:42:08<1:06:28,  1.29s/pipeline]\n",
      "Optimization Progress:  70%|███████   | 7100/10100 [3:43:43<25:08,  1.99pipeline/s]\n",
      "Optimization Progress:  71%|███████▏  | 7200/10100 [3:45:16<50:38,  1.05s/pipeline]\n",
      "Optimization Progress:  72%|███████▏  | 7300/10100 [3:46:29<28:13,  1.65pipeline/s]\n",
      "Optimization Progress:  73%|███████▎  | 7400/10100 [3:48:00<41:34,  1.08pipeline/s]\n",
      "Optimization Progress:  74%|███████▍  | 7500/10100 [3:49:55<1:45:30,  2.43s/pipeline]\n",
      "Optimization Progress:  75%|███████▌  | 7600/10100 [3:51:30<1:26:09,  2.07s/pipeline]\n",
      "Optimization Progress:  76%|███████▌  | 7700/10100 [3:53:16<33:20,  1.20pipeline/s]\n",
      "Optimization Progress:  77%|███████▋  | 7800/10100 [3:54:20<09:50,  3.90pipeline/s]\n",
      "Optimization Progress:  78%|███████▊  | 7900/10100 [3:55:44<36:27,  1.01pipeline/s]\n",
      "Optimization Progress:  79%|███████▉  | 7999/10100 [3:57:02<19:56,  1.76pipeline/s]\n",
      "Optimization Progress:  80%|████████  | 8099/10100 [3:58:11<13:11,  2.53pipeline/s]\n",
      "Optimization Progress:  81%|████████  | 8200/10100 [3:59:18<11:27,  2.76pipeline/s]\n",
      "Optimization Progress:  82%|████████▏ | 8300/10100 [4:00:36<36:37,  1.22s/pipeline]\n",
      "Optimization Progress:  83%|████████▎ | 8400/10100 [4:01:37<09:00,  3.15pipeline/s]\n",
      "Optimization Progress:  84%|████████▍ | 8499/10100 [4:02:44<16:36,  1.61pipeline/s]\n",
      "Optimization Progress:  85%|████████▌ | 8599/10100 [4:04:01<08:58,  2.79pipeline/s]\n",
      "Optimization Progress:  86%|████████▌ | 8699/10100 [4:05:05<10:26,  2.24pipeline/s]\n",
      "Optimization Progress:  87%|████████▋ | 8799/10100 [4:06:07<21:21,  1.02pipeline/s]\n",
      "Optimization Progress:  88%|████████▊ | 8900/10100 [4:07:24<21:05,  1.05s/pipeline]\n",
      "Optimization Progress:  89%|████████▉ | 8999/10100 [4:08:29<13:49,  1.33pipeline/s]\n",
      "Optimization Progress:  90%|█████████ | 9100/10100 [4:09:50<20:29,  1.23s/pipeline]\n",
      "Optimization Progress:  91%|█████████ | 9200/10100 [4:11:15<22:20,  1.49s/pipeline]\n",
      "Optimization Progress:  92%|█████████▏| 9300/10100 [4:12:39<11:33,  1.15pipeline/s]\n",
      "Optimization Progress:  93%|█████████▎| 9400/10100 [4:13:52<07:47,  1.50pipeline/s]\n",
      "Optimization Progress:  94%|█████████▍| 9500/10100 [4:15:08<10:51,  1.09s/pipeline]\n",
      "Optimization Progress:  95%|█████████▌| 9600/10100 [4:16:29<05:13,  1.59pipeline/s]\n",
      "Optimization Progress:  96%|█████████▌| 9700/10100 [4:17:41<04:15,  1.57pipeline/s]\n",
      "Optimization Progress:  97%|█████████▋| 9800/10100 [4:18:43<02:56,  1.70pipeline/s]\n",
      "Optimization Progress:  98%|█████████▊| 9900/10100 [4:20:42<03:38,  1.09s/pipeline]\n",
      "Optimization Progress:  99%|█████████▉| 10000/10100 [4:22:32<02:31,  1.51s/pipeline]\n",
      "Optimization Progress: 100%|██████████| 10100/10100 [4:24:41<00:00,  1.07pipeline/s]\n",
      "                                                                                    \n",
      "Best pipeline: LogisticRegression(PCA(BernoulliNB(LogisticRegression(BernoulliNB(SelectFwe(input_matrix, alpha=0.031), alpha=1.0, fit_prior=True), C=5.0, dual=False, penalty=l2), alpha=100.0, fit_prior=True), iterated_power=5, svd_solver=randomized), C=10.0, dual=False, penalty=l2)\n",
      "0.7864583333333334\n"
     ]
    }
   ],
   "source": [
    "tpot = TPOTClassifier(verbosity=2, max_eval_time_mins=10)\n",
    "tpot.fit(X_train, y_train)\n",
    "print(tpot.score(X_test, y_test))"
   ]
  },
  {
   "cell_type": "code",
   "execution_count": 11,
   "metadata": {},
   "outputs": [
    {
     "output_type": "execute_result",
     "data": {
      "text/plain": [
       "Pipeline(steps=[('selectfwe', SelectFwe(alpha=0.031)),\n",
       "                ('stackingestimator-1',\n",
       "                 StackingEstimator(estimator=BernoulliNB())),\n",
       "                ('stackingestimator-2',\n",
       "                 StackingEstimator(estimator=LogisticRegression(C=5.0))),\n",
       "                ('stackingestimator-3',\n",
       "                 StackingEstimator(estimator=BernoulliNB(alpha=100.0))),\n",
       "                ('pca', PCA(iterated_power=5, svd_solver='randomized')),\n",
       "                ('logisticregression', LogisticRegression(C=10.0))])"
      ]
     },
     "metadata": {},
     "execution_count": 11
    }
   ],
   "source": [
    "tpot.fitted_pipeline_"
   ]
  },
  {
   "source": [
    "Export the model to a Python file"
   ],
   "cell_type": "markdown",
   "metadata": {}
  },
  {
   "cell_type": "code",
   "execution_count": 41,
   "metadata": {},
   "outputs": [],
   "source": [
    "tpot.export('tpot_output_model.py')"
   ]
  },
  {
   "source": [
    "Import the model to run accuracy tests"
   ],
   "cell_type": "markdown",
   "metadata": {}
  },
  {
   "cell_type": "code",
   "execution_count": 43,
   "metadata": {},
   "outputs": [],
   "source": [
    "import tpot_output_model as tpot_model"
   ]
  },
  {
   "cell_type": "code",
   "execution_count": 55,
   "metadata": {},
   "outputs": [],
   "source": [
    "from sklearn.metrics import plot_confusion_matrix\n",
    "from sklearn.metrics import classification_report\n",
    "from sklearn.metrics import balanced_accuracy_score\n",
    "from sklearn.metrics import confusion_matrix\n",
    "from matplotlib import pyplot as plt\n",
    "%matplotlib inline"
   ]
  },
  {
   "cell_type": "code",
   "execution_count": 84,
   "metadata": {},
   "outputs": [
    {
     "output_type": "execute_result",
     "data": {
      "text/plain": [
       "<sklearn.metrics._plot.confusion_matrix.ConfusionMatrixDisplay at 0x210b6c4f248>"
      ]
     },
     "metadata": {},
     "execution_count": 84
    },
    {
     "output_type": "display_data",
     "data": {
      "text/plain": "<Figure size 432x288 with 2 Axes>",
      "image/svg+xml": "<?xml version=\"1.0\" encoding=\"utf-8\" standalone=\"no\"?>\r\n<!DOCTYPE svg PUBLIC \"-//W3C//DTD SVG 1.1//EN\"\r\n  \"http://www.w3.org/Graphics/SVG/1.1/DTD/svg11.dtd\">\r\n<!-- Created with matplotlib (https://matplotlib.org/) -->\r\n<svg height=\"262.19625pt\" version=\"1.1\" viewBox=\"0 0 367.298875 262.19625\" width=\"367.298875pt\" xmlns=\"http://www.w3.org/2000/svg\" xmlns:xlink=\"http://www.w3.org/1999/xlink\">\r\n <metadata>\r\n  <rdf:RDF xmlns:cc=\"http://creativecommons.org/ns#\" xmlns:dc=\"http://purl.org/dc/elements/1.1/\" xmlns:rdf=\"http://www.w3.org/1999/02/22-rdf-syntax-ns#\">\r\n   <cc:Work>\r\n    <dc:type rdf:resource=\"http://purl.org/dc/dcmitype/StillImage\"/>\r\n    <dc:date>2020-10-14T12:06:01.792672</dc:date>\r\n    <dc:format>image/svg+xml</dc:format>\r\n    <dc:creator>\r\n     <cc:Agent>\r\n      <dc:title>Matplotlib v3.3.2, https://matplotlib.org/</dc:title>\r\n     </cc:Agent>\r\n    </dc:creator>\r\n   </cc:Work>\r\n  </rdf:RDF>\r\n </metadata>\r\n <defs>\r\n  <style type=\"text/css\">*{stroke-linecap:butt;stroke-linejoin:round;}</style>\r\n </defs>\r\n <g id=\"figure_1\">\r\n  <g id=\"patch_1\">\r\n   <path d=\"M -0 262.19625 \r\nL 367.298875 262.19625 \r\nL 367.298875 0 \r\nL -0 0 \r\nz\r\n\" style=\"fill:none;\"/>\r\n  </g>\r\n  <g id=\"axes_1\">\r\n   <g id=\"patch_2\">\r\n    <path d=\"M 88.959375 224.64 \r\nL 306.399375 224.64 \r\nL 306.399375 7.2 \r\nL 88.959375 7.2 \r\nz\r\n\" style=\"fill:#ffffff;\"/>\r\n   </g>\r\n   <g clip-path=\"url(#pa842de2d37)\">\r\n    <image height=\"218\" id=\"imagee5b9d8ef96\" transform=\"scale(1 -1)translate(0 -218)\" width=\"218\" x=\"88.959375\" xlink:href=\"data:image/png;base64,\r\niVBORw0KGgoAAAANSUhEUgAAANoAAADaCAYAAADAHVzbAAACl0lEQVR4nO3VUQ3CQAAFwR5ScFIBVYJOzKCApCFFw/3shTCj4P1s3tjux7XxUz7P1+oJTLqtHgD/QGgQEBoEhAYBoUFAaBAQGgSEBgGhQUBoEBAaBIQGAaFBQGgQEBoEhAYBoUFAaBAQGgSEBgGhQUBoEBAaBIQGAaFBQGgQEBoEhAYBoUFAaBAQGgSEBgGhQUBoEBAaBIQGAaFBQGgQEBoEhAYBoUFAaBAQGgSEBgGhQUBoEBAaBIQGAaFBQGgQEBoEhAYBoUFAaBAQGgSEBgGhQUBoEBAaBIQGAaFBQGgQEBoEhAYBoUFAaBAQGgSEBgGhQUBoEBAaBIQGAaFBQGgQEBoEhAYBoUFAaBAQGgSEBgGhQUBoEBAaBIQGAaFBQGgQEBoEhAYBoUFAaBAQGgSEBgGhQUBoEBAaBIQGAaFBQGgQEBoEhAYBoUFAaBAQGgSEBgGhQUBoEBAaBIQGgbEfj2v1COa8z7F6ApM8GgSEBgGhQUBoEBAaBIQGAaFBQGgQEBoEhAYBoUFAaBAQGgSEBgGhQUBoEBAaBIQGAaFBQGgQEBoEhAYBoUFAaBAQGgSEBgGhQUBoEBAaBIQGAaFBQGgQEBoEhAYBoUFAaBAQGgSEBgGhQUBoEBAaBIQGAaFBQGgQEBoEhAYBoUFAaBAQGgSEBgGhQUBoEBAaBIQGAaFBQGgQEBoEhAYBoUFAaBAQGgSEBgGhQUBoEBAaBIQGAaFBQGgQEBoEhAYBoUFAaBAQGgSEBgGhQUBoEBAaBIQGAaFBQGgQEBoEhAYBoUFAaBAQGgSEBgGhQUBoEBAaBIQGAaFBQGgQEBoEhAYBoUFAaBAQGgSEBgGhQUBoEBAaBIQGAaFBQGgQEBoEhAYBoUFAaBD4Aq92CbkaKEKhAAAAAElFTkSuQmCC\" y=\"-6.64\"/>\r\n   </g>\r\n   <g id=\"matplotlib.axis_1\">\r\n    <g id=\"xtick_1\">\r\n     <g id=\"line2d_1\">\r\n      <defs>\r\n       <path d=\"M 0 0 \r\nL 0 3.5 \r\n\" id=\"mbaedd7e26b\" style=\"stroke:#000000;stroke-width:0.8;\"/>\r\n      </defs>\r\n      <g>\r\n       <use style=\"stroke:#000000;stroke-width:0.8;\" x=\"143.319375\" xlink:href=\"#mbaedd7e26b\" y=\"224.64\"/>\r\n      </g>\r\n     </g>\r\n     <g id=\"text_1\">\r\n      <!-- Diabetic -->\r\n      <g transform=\"translate(122.667031 239.238437)scale(0.1 -0.1)\">\r\n       <defs>\r\n        <path d=\"M 19.671875 64.796875 \r\nL 19.671875 8.109375 \r\nL 31.59375 8.109375 \r\nQ 46.6875 8.109375 53.6875 14.9375 \r\nQ 60.6875 21.78125 60.6875 36.53125 \r\nQ 60.6875 51.171875 53.6875 57.984375 \r\nQ 46.6875 64.796875 31.59375 64.796875 \r\nz\r\nM 9.8125 72.90625 \r\nL 30.078125 72.90625 \r\nQ 51.265625 72.90625 61.171875 64.09375 \r\nQ 71.09375 55.28125 71.09375 36.53125 \r\nQ 71.09375 17.671875 61.125 8.828125 \r\nQ 51.171875 0 30.078125 0 \r\nL 9.8125 0 \r\nz\r\n\" id=\"DejaVuSans-68\"/>\r\n        <path d=\"M 9.421875 54.6875 \r\nL 18.40625 54.6875 \r\nL 18.40625 0 \r\nL 9.421875 0 \r\nz\r\nM 9.421875 75.984375 \r\nL 18.40625 75.984375 \r\nL 18.40625 64.59375 \r\nL 9.421875 64.59375 \r\nz\r\n\" id=\"DejaVuSans-105\"/>\r\n        <path d=\"M 34.28125 27.484375 \r\nQ 23.390625 27.484375 19.1875 25 \r\nQ 14.984375 22.515625 14.984375 16.5 \r\nQ 14.984375 11.71875 18.140625 8.90625 \r\nQ 21.296875 6.109375 26.703125 6.109375 \r\nQ 34.1875 6.109375 38.703125 11.40625 \r\nQ 43.21875 16.703125 43.21875 25.484375 \r\nL 43.21875 27.484375 \r\nz\r\nM 52.203125 31.203125 \r\nL 52.203125 0 \r\nL 43.21875 0 \r\nL 43.21875 8.296875 \r\nQ 40.140625 3.328125 35.546875 0.953125 \r\nQ 30.953125 -1.421875 24.3125 -1.421875 \r\nQ 15.921875 -1.421875 10.953125 3.296875 \r\nQ 6 8.015625 6 15.921875 \r\nQ 6 25.140625 12.171875 29.828125 \r\nQ 18.359375 34.515625 30.609375 34.515625 \r\nL 43.21875 34.515625 \r\nL 43.21875 35.40625 \r\nQ 43.21875 41.609375 39.140625 45 \r\nQ 35.0625 48.390625 27.6875 48.390625 \r\nQ 23 48.390625 18.546875 47.265625 \r\nQ 14.109375 46.140625 10.015625 43.890625 \r\nL 10.015625 52.203125 \r\nQ 14.9375 54.109375 19.578125 55.046875 \r\nQ 24.21875 56 28.609375 56 \r\nQ 40.484375 56 46.34375 49.84375 \r\nQ 52.203125 43.703125 52.203125 31.203125 \r\nz\r\n\" id=\"DejaVuSans-97\"/>\r\n        <path d=\"M 48.6875 27.296875 \r\nQ 48.6875 37.203125 44.609375 42.84375 \r\nQ 40.53125 48.484375 33.40625 48.484375 \r\nQ 26.265625 48.484375 22.1875 42.84375 \r\nQ 18.109375 37.203125 18.109375 27.296875 \r\nQ 18.109375 17.390625 22.1875 11.75 \r\nQ 26.265625 6.109375 33.40625 6.109375 \r\nQ 40.53125 6.109375 44.609375 11.75 \r\nQ 48.6875 17.390625 48.6875 27.296875 \r\nz\r\nM 18.109375 46.390625 \r\nQ 20.953125 51.265625 25.265625 53.625 \r\nQ 29.59375 56 35.59375 56 \r\nQ 45.5625 56 51.78125 48.09375 \r\nQ 58.015625 40.1875 58.015625 27.296875 \r\nQ 58.015625 14.40625 51.78125 6.484375 \r\nQ 45.5625 -1.421875 35.59375 -1.421875 \r\nQ 29.59375 -1.421875 25.265625 0.953125 \r\nQ 20.953125 3.328125 18.109375 8.203125 \r\nL 18.109375 0 \r\nL 9.078125 0 \r\nL 9.078125 75.984375 \r\nL 18.109375 75.984375 \r\nz\r\n\" id=\"DejaVuSans-98\"/>\r\n        <path d=\"M 56.203125 29.59375 \r\nL 56.203125 25.203125 \r\nL 14.890625 25.203125 \r\nQ 15.484375 15.921875 20.484375 11.0625 \r\nQ 25.484375 6.203125 34.421875 6.203125 \r\nQ 39.59375 6.203125 44.453125 7.46875 \r\nQ 49.3125 8.734375 54.109375 11.28125 \r\nL 54.109375 2.78125 \r\nQ 49.265625 0.734375 44.1875 -0.34375 \r\nQ 39.109375 -1.421875 33.890625 -1.421875 \r\nQ 20.796875 -1.421875 13.15625 6.1875 \r\nQ 5.515625 13.8125 5.515625 26.8125 \r\nQ 5.515625 40.234375 12.765625 48.109375 \r\nQ 20.015625 56 32.328125 56 \r\nQ 43.359375 56 49.78125 48.890625 \r\nQ 56.203125 41.796875 56.203125 29.59375 \r\nz\r\nM 47.21875 32.234375 \r\nQ 47.125 39.59375 43.09375 43.984375 \r\nQ 39.0625 48.390625 32.421875 48.390625 \r\nQ 24.90625 48.390625 20.390625 44.140625 \r\nQ 15.875 39.890625 15.1875 32.171875 \r\nz\r\n\" id=\"DejaVuSans-101\"/>\r\n        <path d=\"M 18.3125 70.21875 \r\nL 18.3125 54.6875 \r\nL 36.8125 54.6875 \r\nL 36.8125 47.703125 \r\nL 18.3125 47.703125 \r\nL 18.3125 18.015625 \r\nQ 18.3125 11.328125 20.140625 9.421875 \r\nQ 21.96875 7.515625 27.59375 7.515625 \r\nL 36.8125 7.515625 \r\nL 36.8125 0 \r\nL 27.59375 0 \r\nQ 17.1875 0 13.234375 3.875 \r\nQ 9.28125 7.765625 9.28125 18.015625 \r\nL 9.28125 47.703125 \r\nL 2.6875 47.703125 \r\nL 2.6875 54.6875 \r\nL 9.28125 54.6875 \r\nL 9.28125 70.21875 \r\nz\r\n\" id=\"DejaVuSans-116\"/>\r\n        <path d=\"M 48.78125 52.59375 \r\nL 48.78125 44.1875 \r\nQ 44.96875 46.296875 41.140625 47.34375 \r\nQ 37.3125 48.390625 33.40625 48.390625 \r\nQ 24.65625 48.390625 19.8125 42.84375 \r\nQ 14.984375 37.3125 14.984375 27.296875 \r\nQ 14.984375 17.28125 19.8125 11.734375 \r\nQ 24.65625 6.203125 33.40625 6.203125 \r\nQ 37.3125 6.203125 41.140625 7.25 \r\nQ 44.96875 8.296875 48.78125 10.40625 \r\nL 48.78125 2.09375 \r\nQ 45.015625 0.34375 40.984375 -0.53125 \r\nQ 36.96875 -1.421875 32.421875 -1.421875 \r\nQ 20.0625 -1.421875 12.78125 6.34375 \r\nQ 5.515625 14.109375 5.515625 27.296875 \r\nQ 5.515625 40.671875 12.859375 48.328125 \r\nQ 20.21875 56 33.015625 56 \r\nQ 37.15625 56 41.109375 55.140625 \r\nQ 45.0625 54.296875 48.78125 52.59375 \r\nz\r\n\" id=\"DejaVuSans-99\"/>\r\n       </defs>\r\n       <use xlink:href=\"#DejaVuSans-68\"/>\r\n       <use x=\"77.001953\" xlink:href=\"#DejaVuSans-105\"/>\r\n       <use x=\"104.785156\" xlink:href=\"#DejaVuSans-97\"/>\r\n       <use x=\"166.064453\" xlink:href=\"#DejaVuSans-98\"/>\r\n       <use x=\"229.541016\" xlink:href=\"#DejaVuSans-101\"/>\r\n       <use x=\"291.064453\" xlink:href=\"#DejaVuSans-116\"/>\r\n       <use x=\"330.273438\" xlink:href=\"#DejaVuSans-105\"/>\r\n       <use x=\"358.056641\" xlink:href=\"#DejaVuSans-99\"/>\r\n      </g>\r\n     </g>\r\n    </g>\r\n    <g id=\"xtick_2\">\r\n     <g id=\"line2d_2\">\r\n      <g>\r\n       <use style=\"stroke:#000000;stroke-width:0.8;\" x=\"252.039375\" xlink:href=\"#mbaedd7e26b\" y=\"224.64\"/>\r\n      </g>\r\n     </g>\r\n     <g id=\"text_2\">\r\n      <!-- Not-diabetic -->\r\n      <g transform=\"translate(221.49875 239.238437)scale(0.1 -0.1)\">\r\n       <defs>\r\n        <path d=\"M 9.8125 72.90625 \r\nL 23.09375 72.90625 \r\nL 55.421875 11.921875 \r\nL 55.421875 72.90625 \r\nL 64.984375 72.90625 \r\nL 64.984375 0 \r\nL 51.703125 0 \r\nL 19.390625 60.984375 \r\nL 19.390625 0 \r\nL 9.8125 0 \r\nz\r\n\" id=\"DejaVuSans-78\"/>\r\n        <path d=\"M 30.609375 48.390625 \r\nQ 23.390625 48.390625 19.1875 42.75 \r\nQ 14.984375 37.109375 14.984375 27.296875 \r\nQ 14.984375 17.484375 19.15625 11.84375 \r\nQ 23.34375 6.203125 30.609375 6.203125 \r\nQ 37.796875 6.203125 41.984375 11.859375 \r\nQ 46.1875 17.53125 46.1875 27.296875 \r\nQ 46.1875 37.015625 41.984375 42.703125 \r\nQ 37.796875 48.390625 30.609375 48.390625 \r\nz\r\nM 30.609375 56 \r\nQ 42.328125 56 49.015625 48.375 \r\nQ 55.71875 40.765625 55.71875 27.296875 \r\nQ 55.71875 13.875 49.015625 6.21875 \r\nQ 42.328125 -1.421875 30.609375 -1.421875 \r\nQ 18.84375 -1.421875 12.171875 6.21875 \r\nQ 5.515625 13.875 5.515625 27.296875 \r\nQ 5.515625 40.765625 12.171875 48.375 \r\nQ 18.84375 56 30.609375 56 \r\nz\r\n\" id=\"DejaVuSans-111\"/>\r\n        <path d=\"M 4.890625 31.390625 \r\nL 31.203125 31.390625 \r\nL 31.203125 23.390625 \r\nL 4.890625 23.390625 \r\nz\r\n\" id=\"DejaVuSans-45\"/>\r\n        <path d=\"M 45.40625 46.390625 \r\nL 45.40625 75.984375 \r\nL 54.390625 75.984375 \r\nL 54.390625 0 \r\nL 45.40625 0 \r\nL 45.40625 8.203125 \r\nQ 42.578125 3.328125 38.25 0.953125 \r\nQ 33.9375 -1.421875 27.875 -1.421875 \r\nQ 17.96875 -1.421875 11.734375 6.484375 \r\nQ 5.515625 14.40625 5.515625 27.296875 \r\nQ 5.515625 40.1875 11.734375 48.09375 \r\nQ 17.96875 56 27.875 56 \r\nQ 33.9375 56 38.25 53.625 \r\nQ 42.578125 51.265625 45.40625 46.390625 \r\nz\r\nM 14.796875 27.296875 \r\nQ 14.796875 17.390625 18.875 11.75 \r\nQ 22.953125 6.109375 30.078125 6.109375 \r\nQ 37.203125 6.109375 41.296875 11.75 \r\nQ 45.40625 17.390625 45.40625 27.296875 \r\nQ 45.40625 37.203125 41.296875 42.84375 \r\nQ 37.203125 48.484375 30.078125 48.484375 \r\nQ 22.953125 48.484375 18.875 42.84375 \r\nQ 14.796875 37.203125 14.796875 27.296875 \r\nz\r\n\" id=\"DejaVuSans-100\"/>\r\n       </defs>\r\n       <use xlink:href=\"#DejaVuSans-78\"/>\r\n       <use x=\"74.804688\" xlink:href=\"#DejaVuSans-111\"/>\r\n       <use x=\"135.986328\" xlink:href=\"#DejaVuSans-116\"/>\r\n       <use x=\"175.195312\" xlink:href=\"#DejaVuSans-45\"/>\r\n       <use x=\"211.279297\" xlink:href=\"#DejaVuSans-100\"/>\r\n       <use x=\"274.755859\" xlink:href=\"#DejaVuSans-105\"/>\r\n       <use x=\"302.539062\" xlink:href=\"#DejaVuSans-97\"/>\r\n       <use x=\"363.818359\" xlink:href=\"#DejaVuSans-98\"/>\r\n       <use x=\"427.294922\" xlink:href=\"#DejaVuSans-101\"/>\r\n       <use x=\"488.818359\" xlink:href=\"#DejaVuSans-116\"/>\r\n       <use x=\"528.027344\" xlink:href=\"#DejaVuSans-105\"/>\r\n       <use x=\"555.810547\" xlink:href=\"#DejaVuSans-99\"/>\r\n      </g>\r\n     </g>\r\n    </g>\r\n    <g id=\"text_3\">\r\n     <!-- Predicted label -->\r\n     <g transform=\"translate(160.527031 252.916562)scale(0.1 -0.1)\">\r\n      <defs>\r\n       <path d=\"M 19.671875 64.796875 \r\nL 19.671875 37.40625 \r\nL 32.078125 37.40625 \r\nQ 38.96875 37.40625 42.71875 40.96875 \r\nQ 46.484375 44.53125 46.484375 51.125 \r\nQ 46.484375 57.671875 42.71875 61.234375 \r\nQ 38.96875 64.796875 32.078125 64.796875 \r\nz\r\nM 9.8125 72.90625 \r\nL 32.078125 72.90625 \r\nQ 44.34375 72.90625 50.609375 67.359375 \r\nQ 56.890625 61.8125 56.890625 51.125 \r\nQ 56.890625 40.328125 50.609375 34.8125 \r\nQ 44.34375 29.296875 32.078125 29.296875 \r\nL 19.671875 29.296875 \r\nL 19.671875 0 \r\nL 9.8125 0 \r\nz\r\n\" id=\"DejaVuSans-80\"/>\r\n       <path d=\"M 41.109375 46.296875 \r\nQ 39.59375 47.171875 37.8125 47.578125 \r\nQ 36.03125 48 33.890625 48 \r\nQ 26.265625 48 22.1875 43.046875 \r\nQ 18.109375 38.09375 18.109375 28.8125 \r\nL 18.109375 0 \r\nL 9.078125 0 \r\nL 9.078125 54.6875 \r\nL 18.109375 54.6875 \r\nL 18.109375 46.1875 \r\nQ 20.953125 51.171875 25.484375 53.578125 \r\nQ 30.03125 56 36.53125 56 \r\nQ 37.453125 56 38.578125 55.875 \r\nQ 39.703125 55.765625 41.0625 55.515625 \r\nz\r\n\" id=\"DejaVuSans-114\"/>\r\n       <path id=\"DejaVuSans-32\"/>\r\n       <path d=\"M 9.421875 75.984375 \r\nL 18.40625 75.984375 \r\nL 18.40625 0 \r\nL 9.421875 0 \r\nz\r\n\" id=\"DejaVuSans-108\"/>\r\n      </defs>\r\n      <use xlink:href=\"#DejaVuSans-80\"/>\r\n      <use x=\"58.552734\" xlink:href=\"#DejaVuSans-114\"/>\r\n      <use x=\"97.416016\" xlink:href=\"#DejaVuSans-101\"/>\r\n      <use x=\"158.939453\" xlink:href=\"#DejaVuSans-100\"/>\r\n      <use x=\"222.416016\" xlink:href=\"#DejaVuSans-105\"/>\r\n      <use x=\"250.199219\" xlink:href=\"#DejaVuSans-99\"/>\r\n      <use x=\"305.179688\" xlink:href=\"#DejaVuSans-116\"/>\r\n      <use x=\"344.388672\" xlink:href=\"#DejaVuSans-101\"/>\r\n      <use x=\"405.912109\" xlink:href=\"#DejaVuSans-100\"/>\r\n      <use x=\"469.388672\" xlink:href=\"#DejaVuSans-32\"/>\r\n      <use x=\"501.175781\" xlink:href=\"#DejaVuSans-108\"/>\r\n      <use x=\"528.958984\" xlink:href=\"#DejaVuSans-97\"/>\r\n      <use x=\"590.238281\" xlink:href=\"#DejaVuSans-98\"/>\r\n      <use x=\"653.714844\" xlink:href=\"#DejaVuSans-101\"/>\r\n      <use x=\"715.238281\" xlink:href=\"#DejaVuSans-108\"/>\r\n     </g>\r\n    </g>\r\n   </g>\r\n   <g id=\"matplotlib.axis_2\">\r\n    <g id=\"ytick_1\">\r\n     <g id=\"line2d_3\">\r\n      <defs>\r\n       <path d=\"M 0 0 \r\nL -3.5 0 \r\n\" id=\"m30394e42db\" style=\"stroke:#000000;stroke-width:0.8;\"/>\r\n      </defs>\r\n      <g>\r\n       <use style=\"stroke:#000000;stroke-width:0.8;\" x=\"88.959375\" xlink:href=\"#m30394e42db\" y=\"61.56\"/>\r\n      </g>\r\n     </g>\r\n     <g id=\"text_4\">\r\n      <!-- Diabetic -->\r\n      <g transform=\"translate(40.654688 65.359219)scale(0.1 -0.1)\">\r\n       <use xlink:href=\"#DejaVuSans-68\"/>\r\n       <use x=\"77.001953\" xlink:href=\"#DejaVuSans-105\"/>\r\n       <use x=\"104.785156\" xlink:href=\"#DejaVuSans-97\"/>\r\n       <use x=\"166.064453\" xlink:href=\"#DejaVuSans-98\"/>\r\n       <use x=\"229.541016\" xlink:href=\"#DejaVuSans-101\"/>\r\n       <use x=\"291.064453\" xlink:href=\"#DejaVuSans-116\"/>\r\n       <use x=\"330.273438\" xlink:href=\"#DejaVuSans-105\"/>\r\n       <use x=\"358.056641\" xlink:href=\"#DejaVuSans-99\"/>\r\n      </g>\r\n     </g>\r\n    </g>\r\n    <g id=\"ytick_2\">\r\n     <g id=\"line2d_4\">\r\n      <g>\r\n       <use style=\"stroke:#000000;stroke-width:0.8;\" x=\"88.959375\" xlink:href=\"#m30394e42db\" y=\"170.28\"/>\r\n      </g>\r\n     </g>\r\n     <g id=\"text_5\">\r\n      <!-- Not-diabetic -->\r\n      <g transform=\"translate(20.878125 174.079219)scale(0.1 -0.1)\">\r\n       <use xlink:href=\"#DejaVuSans-78\"/>\r\n       <use x=\"74.804688\" xlink:href=\"#DejaVuSans-111\"/>\r\n       <use x=\"135.986328\" xlink:href=\"#DejaVuSans-116\"/>\r\n       <use x=\"175.195312\" xlink:href=\"#DejaVuSans-45\"/>\r\n       <use x=\"211.279297\" xlink:href=\"#DejaVuSans-100\"/>\r\n       <use x=\"274.755859\" xlink:href=\"#DejaVuSans-105\"/>\r\n       <use x=\"302.539062\" xlink:href=\"#DejaVuSans-97\"/>\r\n       <use x=\"363.818359\" xlink:href=\"#DejaVuSans-98\"/>\r\n       <use x=\"427.294922\" xlink:href=\"#DejaVuSans-101\"/>\r\n       <use x=\"488.818359\" xlink:href=\"#DejaVuSans-116\"/>\r\n       <use x=\"528.027344\" xlink:href=\"#DejaVuSans-105\"/>\r\n       <use x=\"555.810547\" xlink:href=\"#DejaVuSans-99\"/>\r\n      </g>\r\n     </g>\r\n    </g>\r\n    <g id=\"text_6\">\r\n     <!-- True label -->\r\n     <g transform=\"translate(14.798438 140.219219)rotate(-90)scale(0.1 -0.1)\">\r\n      <defs>\r\n       <path d=\"M -0.296875 72.90625 \r\nL 61.375 72.90625 \r\nL 61.375 64.59375 \r\nL 35.5 64.59375 \r\nL 35.5 0 \r\nL 25.59375 0 \r\nL 25.59375 64.59375 \r\nL -0.296875 64.59375 \r\nz\r\n\" id=\"DejaVuSans-84\"/>\r\n       <path d=\"M 8.5 21.578125 \r\nL 8.5 54.6875 \r\nL 17.484375 54.6875 \r\nL 17.484375 21.921875 \r\nQ 17.484375 14.15625 20.5 10.265625 \r\nQ 23.53125 6.390625 29.59375 6.390625 \r\nQ 36.859375 6.390625 41.078125 11.03125 \r\nQ 45.3125 15.671875 45.3125 23.6875 \r\nL 45.3125 54.6875 \r\nL 54.296875 54.6875 \r\nL 54.296875 0 \r\nL 45.3125 0 \r\nL 45.3125 8.40625 \r\nQ 42.046875 3.421875 37.71875 1 \r\nQ 33.40625 -1.421875 27.6875 -1.421875 \r\nQ 18.265625 -1.421875 13.375 4.4375 \r\nQ 8.5 10.296875 8.5 21.578125 \r\nz\r\nM 31.109375 56 \r\nz\r\n\" id=\"DejaVuSans-117\"/>\r\n      </defs>\r\n      <use xlink:href=\"#DejaVuSans-84\"/>\r\n      <use x=\"46.333984\" xlink:href=\"#DejaVuSans-114\"/>\r\n      <use x=\"87.447266\" xlink:href=\"#DejaVuSans-117\"/>\r\n      <use x=\"150.826172\" xlink:href=\"#DejaVuSans-101\"/>\r\n      <use x=\"212.349609\" xlink:href=\"#DejaVuSans-32\"/>\r\n      <use x=\"244.136719\" xlink:href=\"#DejaVuSans-108\"/>\r\n      <use x=\"271.919922\" xlink:href=\"#DejaVuSans-97\"/>\r\n      <use x=\"333.199219\" xlink:href=\"#DejaVuSans-98\"/>\r\n      <use x=\"396.675781\" xlink:href=\"#DejaVuSans-101\"/>\r\n      <use x=\"458.199219\" xlink:href=\"#DejaVuSans-108\"/>\r\n     </g>\r\n    </g>\r\n   </g>\r\n   <g id=\"patch_3\">\r\n    <path d=\"M 88.959375 224.64 \r\nL 88.959375 7.2 \r\n\" style=\"fill:none;stroke:#000000;stroke-linecap:square;stroke-linejoin:miter;stroke-width:0.8;\"/>\r\n   </g>\r\n   <g id=\"patch_4\">\r\n    <path d=\"M 306.399375 224.64 \r\nL 306.399375 7.2 \r\n\" style=\"fill:none;stroke:#000000;stroke-linecap:square;stroke-linejoin:miter;stroke-width:0.8;\"/>\r\n   </g>\r\n   <g id=\"patch_5\">\r\n    <path d=\"M 88.959375 224.64 \r\nL 306.399375 224.64 \r\n\" style=\"fill:none;stroke:#000000;stroke-linecap:square;stroke-linejoin:miter;stroke-width:0.8;\"/>\r\n   </g>\r\n   <g id=\"patch_6\">\r\n    <path d=\"M 88.959375 7.2 \r\nL 306.399375 7.2 \r\n\" style=\"fill:none;stroke:#000000;stroke-linecap:square;stroke-linejoin:miter;stroke-width:0.8;\"/>\r\n   </g>\r\n   <g id=\"text_7\">\r\n    <!-- 35 -->\r\n    <g style=\"fill:#fee838;\" transform=\"translate(136.956875 64.319375)scale(0.1 -0.1)\">\r\n     <defs>\r\n      <path d=\"M 40.578125 39.3125 \r\nQ 47.65625 37.796875 51.625 33 \r\nQ 55.609375 28.21875 55.609375 21.1875 \r\nQ 55.609375 10.40625 48.1875 4.484375 \r\nQ 40.765625 -1.421875 27.09375 -1.421875 \r\nQ 22.515625 -1.421875 17.65625 -0.515625 \r\nQ 12.796875 0.390625 7.625 2.203125 \r\nL 7.625 11.71875 \r\nQ 11.71875 9.328125 16.59375 8.109375 \r\nQ 21.484375 6.890625 26.8125 6.890625 \r\nQ 36.078125 6.890625 40.9375 10.546875 \r\nQ 45.796875 14.203125 45.796875 21.1875 \r\nQ 45.796875 27.640625 41.28125 31.265625 \r\nQ 36.765625 34.90625 28.71875 34.90625 \r\nL 20.21875 34.90625 \r\nL 20.21875 43.015625 \r\nL 29.109375 43.015625 \r\nQ 36.375 43.015625 40.234375 45.921875 \r\nQ 44.09375 48.828125 44.09375 54.296875 \r\nQ 44.09375 59.90625 40.109375 62.90625 \r\nQ 36.140625 65.921875 28.71875 65.921875 \r\nQ 24.65625 65.921875 20.015625 65.03125 \r\nQ 15.375 64.15625 9.8125 62.3125 \r\nL 9.8125 71.09375 \r\nQ 15.4375 72.65625 20.34375 73.4375 \r\nQ 25.25 74.21875 29.59375 74.21875 \r\nQ 40.828125 74.21875 47.359375 69.109375 \r\nQ 53.90625 64.015625 53.90625 55.328125 \r\nQ 53.90625 49.265625 50.4375 45.09375 \r\nQ 46.96875 40.921875 40.578125 39.3125 \r\nz\r\n\" id=\"DejaVuSans-51\"/>\r\n      <path d=\"M 10.796875 72.90625 \r\nL 49.515625 72.90625 \r\nL 49.515625 64.59375 \r\nL 19.828125 64.59375 \r\nL 19.828125 46.734375 \r\nQ 21.96875 47.46875 24.109375 47.828125 \r\nQ 26.265625 48.1875 28.421875 48.1875 \r\nQ 40.625 48.1875 47.75 41.5 \r\nQ 54.890625 34.8125 54.890625 23.390625 \r\nQ 54.890625 11.625 47.5625 5.09375 \r\nQ 40.234375 -1.421875 26.90625 -1.421875 \r\nQ 22.3125 -1.421875 17.546875 -0.640625 \r\nQ 12.796875 0.140625 7.71875 1.703125 \r\nL 7.71875 11.625 \r\nQ 12.109375 9.234375 16.796875 8.0625 \r\nQ 21.484375 6.890625 26.703125 6.890625 \r\nQ 35.15625 6.890625 40.078125 11.328125 \r\nQ 45.015625 15.765625 45.015625 23.390625 \r\nQ 45.015625 31 40.078125 35.4375 \r\nQ 35.15625 39.890625 26.703125 39.890625 \r\nQ 22.75 39.890625 18.8125 39.015625 \r\nQ 14.890625 38.140625 10.796875 36.28125 \r\nz\r\n\" id=\"DejaVuSans-53\"/>\r\n     </defs>\r\n     <use xlink:href=\"#DejaVuSans-51\"/>\r\n     <use x=\"63.623047\" xlink:href=\"#DejaVuSans-53\"/>\r\n    </g>\r\n   </g>\r\n   <g id=\"text_8\">\r\n    <!-- 32 -->\r\n    <g style=\"fill:#fee838;\" transform=\"translate(245.676875 64.319375)scale(0.1 -0.1)\">\r\n     <defs>\r\n      <path d=\"M 19.1875 8.296875 \r\nL 53.609375 8.296875 \r\nL 53.609375 0 \r\nL 7.328125 0 \r\nL 7.328125 8.296875 \r\nQ 12.9375 14.109375 22.625 23.890625 \r\nQ 32.328125 33.6875 34.8125 36.53125 \r\nQ 39.546875 41.84375 41.421875 45.53125 \r\nQ 43.3125 49.21875 43.3125 52.78125 \r\nQ 43.3125 58.59375 39.234375 62.25 \r\nQ 35.15625 65.921875 28.609375 65.921875 \r\nQ 23.96875 65.921875 18.8125 64.3125 \r\nQ 13.671875 62.703125 7.8125 59.421875 \r\nL 7.8125 69.390625 \r\nQ 13.765625 71.78125 18.9375 73 \r\nQ 24.125 74.21875 28.421875 74.21875 \r\nQ 39.75 74.21875 46.484375 68.546875 \r\nQ 53.21875 62.890625 53.21875 53.421875 \r\nQ 53.21875 48.921875 51.53125 44.890625 \r\nQ 49.859375 40.875 45.40625 35.40625 \r\nQ 44.1875 33.984375 37.640625 27.21875 \r\nQ 31.109375 20.453125 19.1875 8.296875 \r\nz\r\n\" id=\"DejaVuSans-50\"/>\r\n     </defs>\r\n     <use xlink:href=\"#DejaVuSans-51\"/>\r\n     <use x=\"63.623047\" xlink:href=\"#DejaVuSans-50\"/>\r\n    </g>\r\n   </g>\r\n   <g id=\"text_9\">\r\n    <!-- 9 -->\r\n    <g style=\"fill:#fee838;\" transform=\"translate(140.138125 173.039375)scale(0.1 -0.1)\">\r\n     <defs>\r\n      <path d=\"M 10.984375 1.515625 \r\nL 10.984375 10.5 \r\nQ 14.703125 8.734375 18.5 7.8125 \r\nQ 22.3125 6.890625 25.984375 6.890625 \r\nQ 35.75 6.890625 40.890625 13.453125 \r\nQ 46.046875 20.015625 46.78125 33.40625 \r\nQ 43.953125 29.203125 39.59375 26.953125 \r\nQ 35.25 24.703125 29.984375 24.703125 \r\nQ 19.046875 24.703125 12.671875 31.3125 \r\nQ 6.296875 37.9375 6.296875 49.421875 \r\nQ 6.296875 60.640625 12.9375 67.421875 \r\nQ 19.578125 74.21875 30.609375 74.21875 \r\nQ 43.265625 74.21875 49.921875 64.515625 \r\nQ 56.59375 54.828125 56.59375 36.375 \r\nQ 56.59375 19.140625 48.40625 8.859375 \r\nQ 40.234375 -1.421875 26.421875 -1.421875 \r\nQ 22.703125 -1.421875 18.890625 -0.6875 \r\nQ 15.09375 0.046875 10.984375 1.515625 \r\nz\r\nM 30.609375 32.421875 \r\nQ 37.25 32.421875 41.125 36.953125 \r\nQ 45.015625 41.5 45.015625 49.421875 \r\nQ 45.015625 57.28125 41.125 61.84375 \r\nQ 37.25 66.40625 30.609375 66.40625 \r\nQ 23.96875 66.40625 20.09375 61.84375 \r\nQ 16.21875 57.28125 16.21875 49.421875 \r\nQ 16.21875 41.5 20.09375 36.953125 \r\nQ 23.96875 32.421875 30.609375 32.421875 \r\nz\r\n\" id=\"DejaVuSans-57\"/>\r\n     </defs>\r\n     <use xlink:href=\"#DejaVuSans-57\"/>\r\n    </g>\r\n   </g>\r\n   <g id=\"text_10\">\r\n    <!-- 116 -->\r\n    <g style=\"fill:#00224e;\" transform=\"translate(242.495625 173.039375)scale(0.1 -0.1)\">\r\n     <defs>\r\n      <path d=\"M 12.40625 8.296875 \r\nL 28.515625 8.296875 \r\nL 28.515625 63.921875 \r\nL 10.984375 60.40625 \r\nL 10.984375 69.390625 \r\nL 28.421875 72.90625 \r\nL 38.28125 72.90625 \r\nL 38.28125 8.296875 \r\nL 54.390625 8.296875 \r\nL 54.390625 0 \r\nL 12.40625 0 \r\nz\r\n\" id=\"DejaVuSans-49\"/>\r\n      <path d=\"M 33.015625 40.375 \r\nQ 26.375 40.375 22.484375 35.828125 \r\nQ 18.609375 31.296875 18.609375 23.390625 \r\nQ 18.609375 15.53125 22.484375 10.953125 \r\nQ 26.375 6.390625 33.015625 6.390625 \r\nQ 39.65625 6.390625 43.53125 10.953125 \r\nQ 47.40625 15.53125 47.40625 23.390625 \r\nQ 47.40625 31.296875 43.53125 35.828125 \r\nQ 39.65625 40.375 33.015625 40.375 \r\nz\r\nM 52.59375 71.296875 \r\nL 52.59375 62.3125 \r\nQ 48.875 64.0625 45.09375 64.984375 \r\nQ 41.3125 65.921875 37.59375 65.921875 \r\nQ 27.828125 65.921875 22.671875 59.328125 \r\nQ 17.53125 52.734375 16.796875 39.40625 \r\nQ 19.671875 43.65625 24.015625 45.921875 \r\nQ 28.375 48.1875 33.59375 48.1875 \r\nQ 44.578125 48.1875 50.953125 41.515625 \r\nQ 57.328125 34.859375 57.328125 23.390625 \r\nQ 57.328125 12.15625 50.6875 5.359375 \r\nQ 44.046875 -1.421875 33.015625 -1.421875 \r\nQ 20.359375 -1.421875 13.671875 8.265625 \r\nQ 6.984375 17.96875 6.984375 36.375 \r\nQ 6.984375 53.65625 15.1875 63.9375 \r\nQ 23.390625 74.21875 37.203125 74.21875 \r\nQ 40.921875 74.21875 44.703125 73.484375 \r\nQ 48.484375 72.75 52.59375 71.296875 \r\nz\r\n\" id=\"DejaVuSans-54\"/>\r\n     </defs>\r\n     <use xlink:href=\"#DejaVuSans-49\"/>\r\n     <use x=\"63.623047\" xlink:href=\"#DejaVuSans-49\"/>\r\n     <use x=\"127.246094\" xlink:href=\"#DejaVuSans-54\"/>\r\n    </g>\r\n   </g>\r\n  </g>\r\n  <g id=\"axes_2\">\r\n   <g id=\"patch_7\">\r\n    <path clip-path=\"url(#pab2ace344c)\" d=\"M 323.139375 224.64 \r\nL 323.139375 223.790625 \r\nL 323.139375 8.049375 \r\nL 323.139375 7.2 \r\nL 334.011375 7.2 \r\nL 334.011375 8.049375 \r\nL 334.011375 223.790625 \r\nL 334.011375 224.64 \r\nz\r\n\" style=\"fill:#ffffff;stroke:#ffffff;stroke-linejoin:miter;stroke-width:0.01;\"/>\r\n   </g>\r\n   <image height=\"217\" id=\"imaged81d2d6a4a\" transform=\"scale(1 -1)translate(0 -217)\" width=\"11\" x=\"323\" xlink:href=\"data:image/png;base64,\r\niVBORw0KGgoAAAANSUhEUgAAAAsAAADZCAYAAAD2WsoCAAABQElEQVR4nO2aS27DMAxEKYk9SQ+U+9+lTbrtki/AA8aBvR4Q8yEdSs6q78erhk/X2lNsda1DwKgyAi8ALo9GEzDhjGh8vkBUeYyFlb/mlKtPjUewugnng8BzbPUmlXsBgaiyCJ5jq88GAgELyBlMFa1MWvSQ5kdumAI9GqQ3PIGaGzsjbk9gSii3G2+D51hXIFghruhGCpisah4Nr/nR/nw3/7+HrHXYjQSB0Od54WpwDouZQdONiBn0xgodeNkSmPH6uiR4jjV7w9zrrOOS+Dt4xROQFje6VYMJar2REneEQHj8vx5n5PPnx51xnRXixmE0Ijh7L0Zzuq07cy8U6MYt8E0w+vgi0ghpftZIXm88SWXrk58Y90ICx1g1bg18tLhTwAUExrihzeD+BeAMzrAyivtHozHG4v/JEDA41fwBxNRBfQtXhkcAAAAASUVORK5CYII=\" y=\"-7\"/>\r\n   <g id=\"matplotlib.axis_3\"/>\r\n   <g id=\"matplotlib.axis_4\">\r\n    <g id=\"ytick_3\">\r\n     <g id=\"line2d_5\">\r\n      <defs>\r\n       <path d=\"M 0 0 \r\nL 3.5 0 \r\n\" id=\"mcf7a554b47\" style=\"stroke:#000000;stroke-width:0.8;\"/>\r\n      </defs>\r\n      <g>\r\n       <use style=\"stroke:#000000;stroke-width:0.8;\" x=\"334.011375\" xlink:href=\"#mcf7a554b47\" y=\"202.286355\"/>\r\n      </g>\r\n     </g>\r\n     <g id=\"text_11\">\r\n      <!-- 20 -->\r\n      <g transform=\"translate(341.011375 206.085574)scale(0.1 -0.1)\">\r\n       <defs>\r\n        <path d=\"M 31.78125 66.40625 \r\nQ 24.171875 66.40625 20.328125 58.90625 \r\nQ 16.5 51.421875 16.5 36.375 \r\nQ 16.5 21.390625 20.328125 13.890625 \r\nQ 24.171875 6.390625 31.78125 6.390625 \r\nQ 39.453125 6.390625 43.28125 13.890625 \r\nQ 47.125 21.390625 47.125 36.375 \r\nQ 47.125 51.421875 43.28125 58.90625 \r\nQ 39.453125 66.40625 31.78125 66.40625 \r\nz\r\nM 31.78125 74.21875 \r\nQ 44.046875 74.21875 50.515625 64.515625 \r\nQ 56.984375 54.828125 56.984375 36.375 \r\nQ 56.984375 17.96875 50.515625 8.265625 \r\nQ 44.046875 -1.421875 31.78125 -1.421875 \r\nQ 19.53125 -1.421875 13.0625 8.265625 \r\nQ 6.59375 17.96875 6.59375 36.375 \r\nQ 6.59375 54.828125 13.0625 64.515625 \r\nQ 19.53125 74.21875 31.78125 74.21875 \r\nz\r\n\" id=\"DejaVuSans-48\"/>\r\n       </defs>\r\n       <use xlink:href=\"#DejaVuSans-50\"/>\r\n       <use x=\"63.623047\" xlink:href=\"#DejaVuSans-48\"/>\r\n      </g>\r\n     </g>\r\n    </g>\r\n    <g id=\"ytick_4\">\r\n     <g id=\"line2d_6\">\r\n      <g>\r\n       <use style=\"stroke:#000000;stroke-width:0.8;\" x=\"334.011375\" xlink:href=\"#mcf7a554b47\" y=\"161.643364\"/>\r\n      </g>\r\n     </g>\r\n     <g id=\"text_12\">\r\n      <!-- 40 -->\r\n      <g transform=\"translate(341.011375 165.442583)scale(0.1 -0.1)\">\r\n       <defs>\r\n        <path d=\"M 37.796875 64.3125 \r\nL 12.890625 25.390625 \r\nL 37.796875 25.390625 \r\nz\r\nM 35.203125 72.90625 \r\nL 47.609375 72.90625 \r\nL 47.609375 25.390625 \r\nL 58.015625 25.390625 \r\nL 58.015625 17.1875 \r\nL 47.609375 17.1875 \r\nL 47.609375 0 \r\nL 37.796875 0 \r\nL 37.796875 17.1875 \r\nL 4.890625 17.1875 \r\nL 4.890625 26.703125 \r\nz\r\n\" id=\"DejaVuSans-52\"/>\r\n       </defs>\r\n       <use xlink:href=\"#DejaVuSans-52\"/>\r\n       <use x=\"63.623047\" xlink:href=\"#DejaVuSans-48\"/>\r\n      </g>\r\n     </g>\r\n    </g>\r\n    <g id=\"ytick_5\">\r\n     <g id=\"line2d_7\">\r\n      <g>\r\n       <use style=\"stroke:#000000;stroke-width:0.8;\" x=\"334.011375\" xlink:href=\"#mcf7a554b47\" y=\"121.000374\"/>\r\n      </g>\r\n     </g>\r\n     <g id=\"text_13\">\r\n      <!-- 60 -->\r\n      <g transform=\"translate(341.011375 124.799593)scale(0.1 -0.1)\">\r\n       <use xlink:href=\"#DejaVuSans-54\"/>\r\n       <use x=\"63.623047\" xlink:href=\"#DejaVuSans-48\"/>\r\n      </g>\r\n     </g>\r\n    </g>\r\n    <g id=\"ytick_6\">\r\n     <g id=\"line2d_8\">\r\n      <g>\r\n       <use style=\"stroke:#000000;stroke-width:0.8;\" x=\"334.011375\" xlink:href=\"#mcf7a554b47\" y=\"80.357383\"/>\r\n      </g>\r\n     </g>\r\n     <g id=\"text_14\">\r\n      <!-- 80 -->\r\n      <g transform=\"translate(341.011375 84.156602)scale(0.1 -0.1)\">\r\n       <defs>\r\n        <path d=\"M 31.78125 34.625 \r\nQ 24.75 34.625 20.71875 30.859375 \r\nQ 16.703125 27.09375 16.703125 20.515625 \r\nQ 16.703125 13.921875 20.71875 10.15625 \r\nQ 24.75 6.390625 31.78125 6.390625 \r\nQ 38.8125 6.390625 42.859375 10.171875 \r\nQ 46.921875 13.96875 46.921875 20.515625 \r\nQ 46.921875 27.09375 42.890625 30.859375 \r\nQ 38.875 34.625 31.78125 34.625 \r\nz\r\nM 21.921875 38.8125 \r\nQ 15.578125 40.375 12.03125 44.71875 \r\nQ 8.5 49.078125 8.5 55.328125 \r\nQ 8.5 64.0625 14.71875 69.140625 \r\nQ 20.953125 74.21875 31.78125 74.21875 \r\nQ 42.671875 74.21875 48.875 69.140625 \r\nQ 55.078125 64.0625 55.078125 55.328125 \r\nQ 55.078125 49.078125 51.53125 44.71875 \r\nQ 48 40.375 41.703125 38.8125 \r\nQ 48.828125 37.15625 52.796875 32.3125 \r\nQ 56.78125 27.484375 56.78125 20.515625 \r\nQ 56.78125 9.90625 50.3125 4.234375 \r\nQ 43.84375 -1.421875 31.78125 -1.421875 \r\nQ 19.734375 -1.421875 13.25 4.234375 \r\nQ 6.78125 9.90625 6.78125 20.515625 \r\nQ 6.78125 27.484375 10.78125 32.3125 \r\nQ 14.796875 37.15625 21.921875 38.8125 \r\nz\r\nM 18.3125 54.390625 \r\nQ 18.3125 48.734375 21.84375 45.5625 \r\nQ 25.390625 42.390625 31.78125 42.390625 \r\nQ 38.140625 42.390625 41.71875 45.5625 \r\nQ 45.3125 48.734375 45.3125 54.390625 \r\nQ 45.3125 60.0625 41.71875 63.234375 \r\nQ 38.140625 66.40625 31.78125 66.40625 \r\nQ 25.390625 66.40625 21.84375 63.234375 \r\nQ 18.3125 60.0625 18.3125 54.390625 \r\nz\r\n\" id=\"DejaVuSans-56\"/>\r\n       </defs>\r\n       <use xlink:href=\"#DejaVuSans-56\"/>\r\n       <use x=\"63.623047\" xlink:href=\"#DejaVuSans-48\"/>\r\n      </g>\r\n     </g>\r\n    </g>\r\n    <g id=\"ytick_7\">\r\n     <g id=\"line2d_9\">\r\n      <g>\r\n       <use style=\"stroke:#000000;stroke-width:0.8;\" x=\"334.011375\" xlink:href=\"#mcf7a554b47\" y=\"39.714393\"/>\r\n      </g>\r\n     </g>\r\n     <g id=\"text_15\">\r\n      <!-- 100 -->\r\n      <g transform=\"translate(341.011375 43.513611)scale(0.1 -0.1)\">\r\n       <use xlink:href=\"#DejaVuSans-49\"/>\r\n       <use x=\"63.623047\" xlink:href=\"#DejaVuSans-48\"/>\r\n       <use x=\"127.246094\" xlink:href=\"#DejaVuSans-48\"/>\r\n      </g>\r\n     </g>\r\n    </g>\r\n   </g>\r\n   <g id=\"patch_8\">\r\n    <path d=\"M 323.139375 224.64 \r\nL 323.139375 223.790625 \r\nL 323.139375 8.049375 \r\nL 323.139375 7.2 \r\nL 334.011375 7.2 \r\nL 334.011375 8.049375 \r\nL 334.011375 223.790625 \r\nL 334.011375 224.64 \r\nz\r\n\" style=\"fill:none;stroke:#000000;stroke-linejoin:miter;stroke-width:0.8;\"/>\r\n   </g>\r\n  </g>\r\n </g>\r\n <defs>\r\n  <clipPath id=\"pa842de2d37\">\r\n   <rect height=\"217.44\" width=\"217.44\" x=\"88.959375\" y=\"7.2\"/>\r\n  </clipPath>\r\n  <clipPath id=\"pab2ace344c\">\r\n   <rect height=\"217.44\" width=\"10.872\" x=\"323.139375\" y=\"7.2\"/>\r\n  </clipPath>\r\n </defs>\r\n</svg>\r\n",
      "image/png": "[encoded data removed]"
     },
     "metadata": {
      "needs_background": "light"
     }
    }
   ],
   "source": [
    "# plot_confusion_matrix(tpot_model.exported_pipeline, tpot_model.testing_features, tpot_model.testing_target,display_labels=[\"Not-diabetic\", \"Diabetic\"], cmap='cividis')\n",
    "plot_confusion_matrix(tpot_model.exported_pipeline, tpot_model.testing_features, tpot_model.testing_target, labels=[1,0], display_labels=[\"Diabetic\", \"Not-diabetic\"], cmap='cividis')"
   ]
  },
  {
   "cell_type": "code",
   "execution_count": 85,
   "metadata": {},
   "outputs": [
    {
     "output_type": "execute_result",
     "data": {
      "text/plain": [
       "     Pregnancies  Glucose  BloodPressure  SkinThickness  Insulin   BMI  \\\n",
       "405          2.0    123.0           48.0           32.0    165.0  42.1   \n",
       "279          2.0    108.0           62.0           10.0    278.0  25.3   \n",
       "576          6.0    108.0           44.0           20.0    130.0  24.0   \n",
       "538          0.0    127.0           80.0           37.0    210.0  36.3   \n",
       "383          1.0     90.0           62.0           18.0     59.0  25.1   \n",
       "\n",
       "     DiabetesPedigreeFunction   Age  \n",
       "405                     0.520  26.0  \n",
       "279                     0.881  22.0  \n",
       "576                     0.813  35.0  \n",
       "538                     0.804  23.0  \n",
       "383                     1.268  25.0  "
      ],
      "text/html": "<div>\n<style scoped>\n    .dataframe tbody tr th:only-of-type {\n        vertical-align: middle;\n    }\n\n    .dataframe tbody tr th {\n        vertical-align: top;\n    }\n\n    .dataframe thead th {\n        text-align: right;\n    }\n</style>\n<table border=\"1\" class=\"dataframe\">\n  <thead>\n    <tr style=\"text-align: right;\">\n      <th></th>\n      <th>Pregnancies</th>\n      <th>Glucose</th>\n      <th>BloodPressure</th>\n      <th>SkinThickness</th>\n      <th>Insulin</th>\n      <th>BMI</th>\n      <th>DiabetesPedigreeFunction</th>\n      <th>Age</th>\n    </tr>\n  </thead>\n  <tbody>\n    <tr>\n      <th>405</th>\n      <td>2.0</td>\n      <td>123.0</td>\n      <td>48.0</td>\n      <td>32.0</td>\n      <td>165.0</td>\n      <td>42.1</td>\n      <td>0.520</td>\n      <td>26.0</td>\n    </tr>\n    <tr>\n      <th>279</th>\n      <td>2.0</td>\n      <td>108.0</td>\n      <td>62.0</td>\n      <td>10.0</td>\n      <td>278.0</td>\n      <td>25.3</td>\n      <td>0.881</td>\n      <td>22.0</td>\n    </tr>\n    <tr>\n      <th>576</th>\n      <td>6.0</td>\n      <td>108.0</td>\n      <td>44.0</td>\n      <td>20.0</td>\n      <td>130.0</td>\n      <td>24.0</td>\n      <td>0.813</td>\n      <td>35.0</td>\n    </tr>\n    <tr>\n      <th>538</th>\n      <td>0.0</td>\n      <td>127.0</td>\n      <td>80.0</td>\n      <td>37.0</td>\n      <td>210.0</td>\n      <td>36.3</td>\n      <td>0.804</td>\n      <td>23.0</td>\n    </tr>\n    <tr>\n      <th>383</th>\n      <td>1.0</td>\n      <td>90.0</td>\n      <td>62.0</td>\n      <td>18.0</td>\n      <td>59.0</td>\n      <td>25.1</td>\n      <td>1.268</td>\n      <td>25.0</td>\n    </tr>\n  </tbody>\n</table>\n</div>"
     },
     "metadata": {},
     "execution_count": 85
    }
   ],
   "source": []
  },
  {
   "cell_type": "code",
   "execution_count": 53,
   "metadata": {},
   "outputs": [
    {
     "output_type": "stream",
     "name": "stdout",
     "text": [
      "              precision    recall  f1-score   support\n\n         0.0       0.78      0.93      0.85       125\n         1.0       0.80      0.52      0.63        67\n\n    accuracy                           0.79       192\n   macro avg       0.79      0.73      0.74       192\nweighted avg       0.79      0.79      0.77       192\n\n"
     ]
    }
   ],
   "source": [
    "print(classification_report(tpot_model.testing_target, tpot_model.results))"
   ]
  },
  {
   "cell_type": "code",
   "execution_count": 54,
   "metadata": {},
   "outputs": [
    {
     "output_type": "stream",
     "name": "stdout",
     "text": [
      "0.7251940298507462\n"
     ]
    }
   ],
   "source": [
    "print(balanced_accuracy_score(tpot_model.testing_target, tpot_model.results, sample_weight=None, adjusted=False))"
   ]
  },
  {
   "source": [
    "## Specificity and sensitivity"
   ],
   "cell_type": "markdown",
   "metadata": {}
  },
  {
   "cell_type": "code",
   "execution_count": 86,
   "metadata": {},
   "outputs": [
    {
     "output_type": "execute_result",
     "data": {
      "text/plain": [
       "array([[ 35,  32],\n",
       "       [  9, 116]], dtype=int64)"
      ]
     },
     "metadata": {},
     "execution_count": 86
    }
   ],
   "source": [
    "confusion_mat = confusion_matrix(tpot_model.testing_target, tpot_model.results, labels=[1,0])\n",
    "confusion_mat"
   ]
  },
  {
   "cell_type": "code",
   "execution_count": 70,
   "metadata": {},
   "outputs": [],
   "source": [
    "TP = confusion_mat[0,0]; TN=confusion_mat[1,1]; FN = confusion_mat[1,0]; FP = confusion_mat[0,1]"
   ]
  },
  {
   "cell_type": "code",
   "execution_count": 81,
   "metadata": {},
   "outputs": [
    {
     "output_type": "stream",
     "name": "stdout",
     "text": [
      "79.55% of the cases where the patient was diabetic and was correctly identified as diabetic\n"
     ]
    }
   ],
   "source": [
    "sensitivity = TP/(TP+FN)\n",
    "print(f\"{round(sensitivity*100,2)}% of the cases where the patient was diabetic and was correctly identified as diabetic\")"
   ]
  },
  {
   "cell_type": "code",
   "execution_count": 82,
   "metadata": {},
   "outputs": [
    {
     "output_type": "stream",
     "name": "stdout",
     "text": [
      "78.38% of the cases without diabetes that were correctly identified\n"
     ]
    }
   ],
   "source": [
    "specificity = TN/(TN+FP)\n",
    "print(f\"{round(specificity*100,2)}% of the cases without diabetes that were correctly identified\")"
   ]
  },
  {
   "cell_type": "code",
   "execution_count": null,
   "metadata": {},
   "outputs": [],
   "source": []
  }
 ]
}